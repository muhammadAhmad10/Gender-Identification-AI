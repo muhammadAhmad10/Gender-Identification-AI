{
 "cells": [
  {
   "cell_type": "code",
   "execution_count": 2,
   "metadata": {},
   "outputs": [],
   "source": [
    "import os\n",
    "from tensorflow.keras import layers\n",
    "from tensorflow.keras import Model\n",
    "from tensorflow.keras.preprocessing.image import ImageDataGenerator\n",
    "import tensorflow as tf\n",
    "from tensorflow.keras.callbacks import ReduceLROnPlateau, ModelCheckpoint, EarlyStopping\n",
    "from tensorflow.keras.models import Sequential,load_model,save_model\n",
    "from tensorflow.keras.layers import Dense,Conv2D,Flatten,MaxPooling2D\n",
    "from keras.layers import BatchNormalization\n",
    "from keras.optimizers import Adam"
   ]
  },
  {
   "cell_type": "code",
   "execution_count": 3,
   "metadata": {},
   "outputs": [],
   "source": [
    "#Data Augmentation\n",
    "train_datagen = ImageDataGenerator(rescale = 1./255,\n",
    "      rotation_range=25,\n",
    "      width_shift_range=0.2,\n",
    "      height_shift_range=0.2,\n",
    "      shear_range=0.2,\n",
    "      zoom_range=0.2,\n",
    "      horizontal_flip=True,\n",
    "      fill_mode='nearest')"
   ]
  },
  {
   "cell_type": "code",
   "execution_count": 4,
   "metadata": {},
   "outputs": [],
   "source": [
    "batch_size = 64\n",
    "target_size = (64, 64)\n",
    "input_shape=(64, 64, 3)\n",
    "seed=1337\n",
    "adam = 0.001\n",
    "fre= -20\n",
    "FC = 2048\n",
    "E = 1\n",
    "patience = 3\n",
    "verbose = 1\n",
    "factor = 0.50\n",
    "min_lr = 0.0001\n",
    "steps_per_epoch=256\n",
    "validation_steps=256\n",
    "epochs=8"
   ]
  },
  {
   "cell_type": "code",
   "execution_count": 7,
   "metadata": {},
   "outputs": [
    {
     "name": "stdout",
     "output_type": "stream",
     "text": [
      "Found 160000 images belonging to 2 classes.\n",
      "Found 22598 images belonging to 2 classes.\n"
     ]
    }
   ],
   "source": [
    "test_datagen = ImageDataGenerator( rescale = 1.0/255)\n",
    "\n",
    "train_generator = train_datagen.flow_from_directory('./Dataset/train',\n",
    "                                                    batch_size =batch_size ,\n",
    "                                                    class_mode = 'binary',\n",
    "                                                    seed=seed,\n",
    "                                                    target_size = target_size )     \n",
    "\n",
    "validation_generator =  test_datagen.flow_from_directory( './Dataset/Validation',\n",
    "                                                          batch_size  = batch_size,\n",
    "                                                          class_mode  = 'binary',\n",
    "                                                          seed=seed,\n",
    "                                                          target_size = target_size)"
   ]
  },
  {
   "cell_type": "code",
   "execution_count": 8,
   "metadata": {},
   "outputs": [],
   "source": [
    "base_model = tf.keras.applications.VGG16(input_shape=input_shape,include_top=False,weights=\"imagenet\")"
   ]
  },
  {
   "cell_type": "code",
   "execution_count": 9,
   "metadata": {},
   "outputs": [],
   "source": [
    "# Freezing Layers\n",
    "for layer in base_model.layers[:fre]:\n",
    "    layer.trainable=False"
   ]
  },
  {
   "cell_type": "code",
   "execution_count": 10,
   "metadata": {},
   "outputs": [
    {
     "name": "stdout",
     "output_type": "stream",
     "text": [
      "Model: \"sequential_1\"\n",
      "_________________________________________________________________\n",
      " Layer (type)                Output Shape              Param #   \n",
      "=================================================================\n",
      " vgg16 (Functional)          (None, 2, 2, 512)         14714688  \n",
      "                                                                 \n",
      " dropout (Dropout)           (None, 2, 2, 512)         0         \n",
      "                                                                 \n",
      " conv2d (Conv2D)             (None, 2, 2, 512)         2359808   \n",
      "                                                                 \n",
      " batch_normalization (BatchN  (None, 2, 2, 512)        2048      \n",
      " ormalization)                                                   \n",
      "                                                                 \n",
      " dropout_1 (Dropout)         (None, 2, 2, 512)         0         \n",
      "                                                                 \n",
      " conv2d_1 (Conv2D)           (None, 2, 2, 128)         589952    \n",
      "                                                                 \n",
      " batch_normalization_1 (Batc  (None, 2, 2, 128)        512       \n",
      " hNormalization)                                                 \n",
      "                                                                 \n",
      " dropout_2 (Dropout)         (None, 2, 2, 128)         0         \n",
      "                                                                 \n",
      " conv2d_2 (Conv2D)           (None, 2, 2, 384)         442752    \n",
      "                                                                 \n",
      " batch_normalization_2 (Batc  (None, 2, 2, 384)        1536      \n",
      " hNormalization)                                                 \n",
      "                                                                 \n",
      " dropout_3 (Dropout)         (None, 2, 2, 384)         0         \n",
      "                                                                 \n",
      " conv2d_3 (Conv2D)           (None, 2, 2, 384)         1327488   \n",
      "                                                                 \n",
      " batch_normalization_3 (Batc  (None, 2, 2, 384)        1536      \n",
      " hNormalization)                                                 \n",
      "                                                                 \n",
      " dropout_4 (Dropout)         (None, 2, 2, 384)         0         \n",
      "                                                                 \n",
      " conv2d_4 (Conv2D)           (None, 2, 2, 500)         1728500   \n",
      "                                                                 \n",
      " batch_normalization_4 (Batc  (None, 2, 2, 500)        2000      \n",
      " hNormalization)                                                 \n",
      "                                                                 \n",
      " max_pooling2d (MaxPooling2D  (None, 1, 1, 500)        0         \n",
      " )                                                               \n",
      "                                                                 \n",
      " flatten (Flatten)           (None, 500)               0         \n",
      "                                                                 \n",
      " dense (Dense)               (None, 2048)              1026048   \n",
      "                                                                 \n",
      " dropout_5 (Dropout)         (None, 2048)              0         \n",
      "                                                                 \n",
      " dense_1 (Dense)             (None, 2048)              4196352   \n",
      "                                                                 \n",
      " dropout_6 (Dropout)         (None, 2048)              0         \n",
      "                                                                 \n",
      " dense_2 (Dense)             (None, 2048)              4196352   \n",
      "                                                                 \n",
      " dropout_7 (Dropout)         (None, 2048)              0         \n",
      "                                                                 \n",
      " dense_3 (Dense)             (None, 1)                 2049      \n",
      "                                                                 \n",
      "=================================================================\n",
      "Total params: 30,591,621\n",
      "Trainable params: 30,587,805\n",
      "Non-trainable params: 3,816\n",
      "_________________________________________________________________\n"
     ]
    }
   ],
   "source": [
    "# Building Model\n",
    "model=Sequential()\n",
    "model.add(base_model)\n",
    "model.add(layers.Dropout(.2))\n",
    "\n",
    "model.add(Conv2D(512, (3, 3),strides=(1,1), activation='relu', padding='same'))\n",
    "model.add(BatchNormalization())\n",
    "model.add(layers.Dropout(.1))\n",
    "model.add(Conv2D(128, (3, 3),strides=(1,1), activation='relu', padding='same'))\n",
    "model.add(BatchNormalization())\n",
    "model.add(layers.Dropout(.1))\n",
    "model.add(Conv2D(384, (3, 3),strides=(1,1), activation='relu', padding='same'))\n",
    "model.add(BatchNormalization())\n",
    "model.add(layers.Dropout(.1))\n",
    "model.add(Conv2D(384, (3, 3),strides=(1,1), activation='relu', padding='same'))\n",
    "model.add(BatchNormalization())\n",
    "model.add(layers.Dropout(.1))\n",
    "model.add(Conv2D(500, (3, 3),strides=(1,1), activation='relu', padding='same'))\n",
    "model.add(BatchNormalization())\n",
    "model.add(MaxPooling2D(2,strides=(2,2), padding='same'))\n",
    "\n",
    "\n",
    "\n",
    "# Add new layers\n",
    "model.add(Flatten())\n",
    "model.add(Dense(FC , activation='relu'))\n",
    "model.add(layers.Dropout(.2))\n",
    "model.add(Dense(FC , activation='relu'))\n",
    "model.add(layers.Dropout(.2))\n",
    "model.add(Dense(FC, activation='relu'))\n",
    "model.add(layers.Dropout(.2))\n",
    "model.add(Dense(E, activation='sigmoid'))\n",
    "\n",
    "model.summary()\n"
   ]
  },
  {
   "cell_type": "code",
   "execution_count": 11,
   "metadata": {},
   "outputs": [],
   "source": [
    "model.compile(optimizer=Adam(adam),\n",
    "              loss='binary_crossentropy'\n",
    "              ,metrics=['accuracy'])"
   ]
  },
  {
   "cell_type": "code",
   "execution_count": 12,
   "metadata": {},
   "outputs": [
    {
     "name": "stdout",
     "output_type": "stream",
     "text": [
      "You must install pydot (`pip install pydot`) and install graphviz (see instructions at https://graphviz.gitlab.io/download/) for plot_model to work.\n"
     ]
    }
   ],
   "source": [
    "from tensorflow.keras.utils import plot_model\n",
    "plot_model(model,show_shapes=True, show_layer_names=True, rankdir='TB', expand_nested=True)"
   ]
  },
  {
   "cell_type": "code",
   "execution_count": 13,
   "metadata": {},
   "outputs": [],
   "source": [
    "lrd = ReduceLROnPlateau(monitor = 'val_loss',\n",
    "                        patience = patience,\n",
    "                        verbose = verbose ,\n",
    "                        factor = factor,\n",
    "                        min_lr = min_lr)\n",
    "\n",
    "mcp = ModelCheckpoint('model.h5')\n",
    "\n",
    "es = EarlyStopping(verbose=verbose, patience=patience)"
   ]
  },
  {
   "cell_type": "code",
   "execution_count": 13,
   "metadata": {},
   "outputs": [
    {
     "name": "stdout",
     "output_type": "stream",
     "text": [
      "Wall time: 0 ns\n"
     ]
    },
    {
     "name": "stderr",
     "output_type": "stream",
     "text": [
      "C:\\Users\\HP\\AppData\\Local\\Temp\\ipykernel_9188\\1157127437.py:2: UserWarning: `Model.fit_generator` is deprecated and will be removed in a future version. Please use `Model.fit`, which supports generators.\n",
      "  hist = model.fit_generator(generator=train_generator,\n"
     ]
    },
    {
     "name": "stdout",
     "output_type": "stream",
     "text": [
      "Epoch 1/8\n",
      "256/256 [==============================] - 2355s 9s/step - loss: 0.6402 - accuracy: 0.6772 - val_loss: 0.5376 - val_accuracy: 0.7651 - lr: 0.0010\n",
      "Epoch 2/8\n",
      "256/256 [==============================] - 3323s 13s/step - loss: 0.3838 - accuracy: 0.8310 - val_loss: 0.2987 - val_accuracy: 0.9102 - lr: 0.0010\n",
      "Epoch 3/8\n",
      "256/256 [==============================] - 2267s 9s/step - loss: 0.2698 - accuracy: 0.8936 - val_loss: 0.9298 - val_accuracy: 0.7159 - lr: 0.0010\n",
      "Epoch 4/8\n",
      "256/256 [==============================] - 2163s 8s/step - loss: 0.2269 - accuracy: 0.9080 - val_loss: 0.3252 - val_accuracy: 0.9105 - lr: 0.0010\n",
      "Epoch 5/8\n",
      "256/256 [==============================] - 2921s 11s/step - loss: 0.1971 - accuracy: 0.9239 - val_loss: 0.1699 - val_accuracy: 0.9417 - lr: 0.0010\n",
      "Epoch 6/8\n",
      "256/256 [==============================] - 2418s 9s/step - loss: 0.1858 - accuracy: 0.9246 - val_loss: 0.1548 - val_accuracy: 0.9340 - lr: 0.0010\n",
      "Epoch 7/8\n",
      "256/256 [==============================] - 2254s 9s/step - loss: 0.1780 - accuracy: 0.9314 - val_loss: 0.1509 - val_accuracy: 0.9502 - lr: 0.0010\n",
      "Epoch 8/8\n",
      "256/256 [==============================] - 2256s 9s/step - loss: 0.1611 - accuracy: 0.9376 - val_loss: 0.4111 - val_accuracy: 0.7842 - lr: 0.0010\n"
     ]
    }
   ],
   "source": [
    "%time\n",
    "hist = model.fit_generator(generator=train_generator,\n",
    "                           validation_data=validation_generator,\n",
    "                           steps_per_epoch=steps_per_epoch,\n",
    "                           validation_steps=validation_steps,\n",
    "                           epochs=epochs,\n",
    "                           callbacks=[lrd, mcp, es])"
   ]
  },
  {
   "cell_type": "code",
   "execution_count": null,
   "metadata": {},
   "outputs": [],
   "source": [
    "import matplotlib.pyplot as plt\n",
    "acc = hist.history['accuracy']\n",
    "val_acc = hist.history['val_accuracy']\n",
    "loss = hist.history['loss']\n",
    "val_loss = hist.history['val_loss']\n",
    "\n",
    "epochs = range(len(acc))\n",
    "\n",
    "plt.plot(epochs, acc, 'g', label='Training accuracy')\n",
    "plt.plot(epochs, val_acc, 'y', label='Validation accuracy')\n",
    "plt.title('Training and validation accuracy')\n",
    "plt.legend(loc=0)\n",
    "plt.figure()\n",
    "plt.show()"
   ]
  },
  {
   "cell_type": "code",
   "execution_count": 34,
   "metadata": {},
   "outputs": [
    {
     "name": "stdout",
     "output_type": "stream",
     "text": [
      "1/1 [==============================] - 0s 64ms/step\n",
      "[0.54685974]\n",
      "This  is a female\n"
     ]
    },
    {
     "data": {
      "text/plain": [
       "<matplotlib.image.AxesImage at 0x26929d8e850>"
      ]
     },
     "execution_count": 34,
     "metadata": {},
     "output_type": "execute_result"
    },
    {
     "data": {
      "image/png": "[encoded data removed]",
      "text/plain": [
       "<Figure size 640x480 with 1 Axes>"
      ]
     },
     "metadata": {},
     "output_type": "display_data"
    }
   ],
   "source": [
    "import numpy as np\n",
    "\n",
    "from tensorflow.keras.preprocessing import image\n",
    "#  images test 1\n",
    "img = './image/ahmad.png'\n",
    "path_testmodel = \"./Dataset/Test/Female/179661.jpg\"\n",
    "imge = image.load_img(img, target_size=target_size)\n",
    "X = image.img_to_array(imge)\n",
    "X = np.expand_dims(X, axis=0)\n",
    "\n",
    "images = np.vstack([X])\n",
    "classes = model.predict(images, batch_size=1)\n",
    "print(classes[0])\n",
    "if classes[0]<0.5:\n",
    "    print(\"This is a male\")\n",
    "else:\n",
    "    print( \"This  is a female\")\n",
    "plt.imshow(imge)"
   ]
  },
  {
   "cell_type": "code",
   "execution_count": 25,
   "metadata": {},
   "outputs": [
    {
     "name": "stdout",
     "output_type": "stream",
     "text": [
      "1/1 [==============================] - 0s 133ms/step\n",
      "[0.54685974]\n",
      "This is a male\n"
     ]
    },
    {
     "data": {
      "text/plain": [
       "<matplotlib.image.AxesImage at 0x2692912b730>"
      ]
     },
     "execution_count": 25,
     "metadata": {},
     "output_type": "execute_result"
    },
    {
     "data": {
      "image/png": "[encoded data removed]",
      "text/plain": [
       "<Figure size 640x480 with 1 Axes>"
      ]
     },
     "metadata": {},
     "output_type": "display_data"
    }
   ],
   "source": [
    "import numpy as np\n",
    "import matplotlib.pyplot as plt\n",
    "\n",
    "from tensorflow.keras.preprocessing import image\n",
    "#  images test 2\n",
    "img = './image/ahmad.png'\n",
    "path_testmodel = \"./Dataset/Test/Male/160002.jpg\"\n",
    "imge = image.load_img(img, target_size=target_size)\n",
    "X = image.img_to_array(imge)\n",
    "X = np.expand_dims(X, axis=0)\n",
    "\n",
    "images = np.vstack([X])\n",
    "classes = model.predict(images, batch_size=1)\n",
    "print(classes[0])\n",
    "if classes[0]>0.5:\n",
    "    print(\"This is a male\")\n",
    "else:\n",
    "    print( \"This is a female\")\n",
    "plt.imshow(imge)"
   ]
  }
 ],
 "metadata": {
  "kernelspec": {
   "display_name": "base",
   "language": "python",
   "name": "python3"
  },
  "language_info": {
   "codemirror_mode": {
    "name": "ipython",
    "version": 3
   },
   "file_extension": ".py",
   "mimetype": "text/x-python",
   "name": "python",
   "nbconvert_exporter": "python",
   "pygments_lexer": "ipython3",
   "version": "3.9.13"
  },
  "orig_nbformat": 4
 },
 "nbformat": 4,
 "nbformat_minor": 2
}
