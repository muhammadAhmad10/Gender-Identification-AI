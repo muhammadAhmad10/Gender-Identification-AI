{
 "cells": [
  {
   "cell_type": "code",
   "execution_count": 1,
   "metadata": {},
   "outputs": [],
   "source": [
    "import os\n",
    "from tensorflow.keras import layers\n",
    "from tensorflow.keras import Model\n",
    "from tensorflow.keras.preprocessing.image import ImageDataGenerator\n",
    "import tensorflow as tf\n",
    "from tensorflow.keras.callbacks import ReduceLROnPlateau, ModelCheckpoint, EarlyStopping\n",
    "from tensorflow.keras.models import Sequential,load_model,save_model\n",
    "from tensorflow.keras.layers import Dense,Conv2D,Flatten,MaxPooling2D,Dropout,Activation\n",
    "from keras.layers import BatchNormalization\n",
    "from keras.optimizers import Adam"
   ]
  },
  {
   "cell_type": "code",
   "execution_count": 2,
   "metadata": {},
   "outputs": [],
   "source": [
    "\n",
    "# Data Augmentation\n",
    "train_datagen = ImageDataGenerator(\n",
    "    rescale=1./255,\n",
    "    rotation_range=20,\n",
    "    width_shift_range=0.2,\n",
    "    height_shift_range=0.2,\n",
    "    shear_range=0.2,\n",
    "    zoom_range=0.2,\n",
    "    horizontal_flip=True,\n",
    "    fill_mode='nearest'\n",
    ")\n",
    "\n",
    "\n",
    "test_datagen = ImageDataGenerator(rescale=1.0/255)\n",
    "\n",
    "\n",
    "validation_datagen = ImageDataGenerator(\n",
    "    rescale=1./255,\n",
    "    rotation_range=20,\n",
    "    width_shift_range=0.2,\n",
    "    height_shift_range=0.2,\n",
    "    horizontal_flip=True,\n",
    "    fill_mode='nearest'\n",
    ")\n"
   ]
  },
  {
   "cell_type": "code",
   "execution_count": 11,
   "metadata": {},
   "outputs": [],
   "source": [
    "batch_size = 64\n",
    "target_size = (64, 64)\n",
    "input_shape = (64, 64, 3)\n",
    "seed = 1337\n",
    "adam_lr = 0.0001\n",
    "epochs = 10\n",
    "patience = 5"
   ]
  },
  {
   "cell_type": "code",
   "execution_count": 4,
   "metadata": {},
   "outputs": [
    {
     "name": "stdout",
     "output_type": "stream",
     "text": [
      "Found 135096 images belonging to 2 classes.\n",
      "Found 16886 images belonging to 2 classes.\n"
     ]
    }
   ],
   "source": [
    "train_generator = train_datagen.flow_from_directory('./GenderDataset/train',\n",
    "                                                    batch_size =batch_size ,\n",
    "                                                    class_mode = 'binary',\n",
    "                                                    seed=seed,\n",
    "                                                    target_size = target_size )     \n",
    "\n",
    "validation_generator =  test_datagen.flow_from_directory( './GenderDataset/Validation',\n",
    "                                                          batch_size  = batch_size,\n",
    "                                                          class_mode  = 'binary',\n",
    "                                                          seed=seed,\n",
    "                                                          target_size = target_size)"
   ]
  },
  {
   "cell_type": "code",
   "execution_count": 5,
   "metadata": {},
   "outputs": [],
   "source": [
    "# Load the pre-trained VGG16 model without the top layers\n",
    "from tensorflow.keras.applications import VGG16\n",
    "base_model = VGG16(\n",
    "    weights='imagenet',\n",
    "    include_top=False,\n",
    "    input_shape=input_shape\n",
    ")"
   ]
  },
  {
   "cell_type": "code",
   "execution_count": 6,
   "metadata": {},
   "outputs": [],
   "source": [
    "# Freeze the layers up to the last convolutional block\n",
    "for layer in base_model.layers:\n",
    "    layer.trainable = False"
   ]
  },
  {
   "cell_type": "code",
   "execution_count": 7,
   "metadata": {},
   "outputs": [
    {
     "name": "stdout",
     "output_type": "stream",
     "text": [
      "Model: \"sequential\"\n",
      "_________________________________________________________________\n",
      " Layer (type)                Output Shape              Param #   \n",
      "=================================================================\n",
      " vgg16 (Functional)          (None, 2, 2, 512)         14714688  \n",
      "                                                                 \n",
      " flatten (Flatten)           (None, 2048)              0         \n",
      "                                                                 \n",
      " dense (Dense)               (None, 512)               1049088   \n",
      "                                                                 \n",
      " batch_normalization (BatchN  (None, 512)              2048      \n",
      " ormalization)                                                   \n",
      "                                                                 \n",
      " dropout (Dropout)           (None, 512)               0         \n",
      "                                                                 \n",
      " dense_1 (Dense)             (None, 1)                 513       \n",
      "                                                                 \n",
      "=================================================================\n",
      "Total params: 15,766,337\n",
      "Trainable params: 1,050,625\n",
      "Non-trainable params: 14,715,712\n",
      "_________________________________________________________________\n"
     ]
    }
   ],
   "source": [
    "# Build the model\n",
    "model = Sequential()\n",
    "model.add(base_model)\n",
    "model.add(Flatten())\n",
    "model.add(Dense(512, activation='relu'))\n",
    "model.add(BatchNormalization())\n",
    "model.add(Dropout(0.5))\n",
    "model.add(Dense(1, activation='sigmoid'))\n",
    "\n",
    "model.summary()"
   ]
  },
  {
   "cell_type": "code",
   "execution_count": 8,
   "metadata": {},
   "outputs": [],
   "source": [
    "# Compile the model\n",
    "model.compile(\n",
    "    optimizer=Adam(learning_rate=adam_lr),\n",
    "    loss='binary_crossentropy',\n",
    "    metrics=['accuracy']\n",
    ")"
   ]
  },
  {
   "cell_type": "code",
   "execution_count": 9,
   "metadata": {},
   "outputs": [],
   "source": [
    "# Define callbacks\n",
    "reduce_lr = ReduceLROnPlateau(monitor='val_loss', factor=0.1, patience=3, verbose=1, min_lr=1e-6)\n",
    "checkpoint = ModelCheckpoint('genderClassificationUpgrade1.h5', monitor='val_accuracy', save_best_only=True, verbose=1)\n",
    "early_stop = EarlyStopping(monitor='val_loss', patience=patience, verbose=1, restore_best_weights=True)\n"
   ]
  },
  {
   "cell_type": "code",
   "execution_count": 12,
   "metadata": {},
   "outputs": [
    {
     "name": "stderr",
     "output_type": "stream",
     "text": [
      "C:\\Users\\HP\\AppData\\Local\\Temp\\ipykernel_17388\\2963743779.py:2: UserWarning: `Model.fit_generator` is deprecated and will be removed in a future version. Please use `Model.fit`, which supports generators.\n",
      "  history = model.fit_generator(\n"
     ]
    },
    {
     "name": "stdout",
     "output_type": "stream",
     "text": [
      "Epoch 1/10\n",
      "2111/2111 [==============================] - ETA: 0s - loss: 0.4245 - accuracy: 0.8125\n",
      "Epoch 1: val_accuracy improved from -inf to 0.87297, saving model to genderClassificationUpgrade1.h5\n",
      "2111/2111 [==============================] - 3602s 2s/step - loss: 0.4245 - accuracy: 0.8125 - val_loss: 0.3017 - val_accuracy: 0.8730 - lr: 1.0000e-04\n",
      "Epoch 2/10\n",
      "2111/2111 [==============================] - ETA: 0s - loss: 0.3769 - accuracy: 0.8323\n",
      "Epoch 2: val_accuracy improved from 0.87297 to 0.87309, saving model to genderClassificationUpgrade1.h5\n",
      "2111/2111 [==============================] - 3833s 2s/step - loss: 0.3769 - accuracy: 0.8323 - val_loss: 0.2963 - val_accuracy: 0.8731 - lr: 1.0000e-04\n",
      "Epoch 3/10\n",
      "2111/2111 [==============================] - ETA: 0s - loss: 0.3638 - accuracy: 0.8384\n",
      "Epoch 3: val_accuracy improved from 0.87309 to 0.87771, saving model to genderClassificationUpgrade1.h5\n",
      "2111/2111 [==============================] - 3565s 2s/step - loss: 0.3638 - accuracy: 0.8384 - val_loss: 0.2883 - val_accuracy: 0.8777 - lr: 1.0000e-04\n",
      "Epoch 4/10\n",
      "2111/2111 [==============================] - ETA: 0s - loss: 0.3560 - accuracy: 0.8416\n",
      "Epoch 4: val_accuracy improved from 0.87771 to 0.88055, saving model to genderClassificationUpgrade1.h5\n",
      "2111/2111 [==============================] - 3553s 2s/step - loss: 0.3560 - accuracy: 0.8416 - val_loss: 0.2844 - val_accuracy: 0.8806 - lr: 1.0000e-04\n",
      "Epoch 5/10\n",
      "2111/2111 [==============================] - ETA: 0s - loss: 0.3490 - accuracy: 0.8458\n",
      "Epoch 5: val_accuracy did not improve from 0.88055\n",
      "2111/2111 [==============================] - 3368s 2s/step - loss: 0.3490 - accuracy: 0.8458 - val_loss: 0.2819 - val_accuracy: 0.8802 - lr: 1.0000e-04\n",
      "Epoch 6/10\n",
      "2111/2111 [==============================] - ETA: 0s - loss: 0.3467 - accuracy: 0.8476\n",
      "Epoch 6: val_accuracy improved from 0.88055 to 0.88191, saving model to genderClassificationUpgrade1.h5\n",
      "2111/2111 [==============================] - 4378s 2s/step - loss: 0.3467 - accuracy: 0.8476 - val_loss: 0.2793 - val_accuracy: 0.8819 - lr: 1.0000e-04\n",
      "Epoch 7/10\n",
      "2111/2111 [==============================] - ETA: 0s - loss: 0.3436 - accuracy: 0.8485\n",
      "Epoch 7: val_accuracy improved from 0.88191 to 0.88227, saving model to genderClassificationUpgrade1.h5\n",
      "2111/2111 [==============================] - 3573s 2s/step - loss: 0.3436 - accuracy: 0.8485 - val_loss: 0.2766 - val_accuracy: 0.8823 - lr: 1.0000e-04\n",
      "Epoch 8/10\n",
      "2111/2111 [==============================] - ETA: 0s - loss: 0.3430 - accuracy: 0.8490\n",
      "Epoch 8: val_accuracy did not improve from 0.88227\n",
      "2111/2111 [==============================] - 3348s 2s/step - loss: 0.3430 - accuracy: 0.8490 - val_loss: 0.2769 - val_accuracy: 0.8806 - lr: 1.0000e-04\n",
      "Epoch 9/10\n",
      "2111/2111 [==============================] - ETA: 0s - loss: 0.3397 - accuracy: 0.8496\n",
      "Epoch 9: val_accuracy did not improve from 0.88227\n",
      "2111/2111 [==============================] - 3248s 2s/step - loss: 0.3397 - accuracy: 0.8496 - val_loss: 0.2796 - val_accuracy: 0.8810 - lr: 1.0000e-04\n",
      "Epoch 10/10\n",
      "2111/2111 [==============================] - ETA: 0s - loss: 0.3377 - accuracy: 0.8514\n",
      "Epoch 10: val_accuracy improved from 0.88227 to 0.88393, saving model to genderClassificationUpgrade1.h5\n",
      "2111/2111 [==============================] - 6255s 3s/step - loss: 0.3377 - accuracy: 0.8514 - val_loss: 0.2729 - val_accuracy: 0.8839 - lr: 1.0000e-04\n"
     ]
    }
   ],
   "source": [
    "# Train the model\n",
    "history = model.fit_generator(\n",
    "    train_generator,\n",
    "    steps_per_epoch=len(train_generator),\n",
    "    epochs=epochs,\n",
    "    validation_data=validation_generator,\n",
    "    validation_steps=len(validation_generator),\n",
    "    callbacks=[reduce_lr, checkpoint, early_stop]\n",
    ")"
   ]
  },
  {
   "cell_type": "code",
   "execution_count": 32,
   "metadata": {},
   "outputs": [
    {
     "data": {
      "image/png": "[encoded data removed]",
      "text/plain": [
       "<Figure size 640x480 with 1 Axes>"
      ]
     },
     "metadata": {},
     "output_type": "display_data"
    },
    {
     "data": {
      "text/plain": [
       "<Figure size 640x480 with 0 Axes>"
      ]
     },
     "metadata": {},
     "output_type": "display_data"
    }
   ],
   "source": [
    "import matplotlib.pyplot as plt\n",
    "acc = history.history['accuracy']\n",
    "val_acc = history.history['val_accuracy']\n",
    "loss = history.history['loss']\n",
    "val_loss = history.history['val_loss']\n",
    "\n",
    "epochs = range(len(acc))\n",
    "\n",
    "plt.plot(epochs, acc, 'g', label='Training accuracy')\n",
    "plt.plot(epochs, val_acc, 'y', label='Validation accuracy')\n",
    "plt.title('Training and validation accuracy')\n",
    "plt.legend(loc=0)\n",
    "plt.figure()\n",
    "plt.show()"
   ]
  },
  {
   "cell_type": "code",
   "execution_count": 31,
   "metadata": {},
   "outputs": [
    {
     "name": "stdout",
     "output_type": "stream",
     "text": [
      "1/1 [==============================] - 0s 63ms/step\n",
      "Predicted class: female\n",
      "Probability: [0.40258712]\n"
     ]
    },
    {
     "data": {
      "image/png": "[encoded data removed]",
      "text/plain": [
       "<Figure size 640x480 with 1 Axes>"
      ]
     },
     "metadata": {},
     "output_type": "display_data"
    }
   ],
   "source": [
    "import numpy as np\n",
    "import matplotlib.pyplot as plt\n",
    "\n",
    "from tensorflow.keras.preprocessing import image\n",
    "\n",
    "# Load and preprocess the image\n",
    "img = './image/hassan.jpg'\n",
    "imge = image.load_img(img, target_size=target_size)\n",
    "X = image.img_to_array(imge) / 255.0  # Normalize the image\n",
    "X = np.expand_dims(X, axis=0)\n",
    "\n",
    "# Make predictions on the image\n",
    "predictions = model.predict(X)\n",
    "\n",
    "# Define the threshold for classification\n",
    "threshold = 0.5\n",
    "\n",
    "# Class labels\n",
    "class_labels = [\"female\", \"male\"]\n",
    "\n",
    "# Get the predicted class index\n",
    "predicted_class_index = 1 if predictions[0] > threshold else 0\n",
    "\n",
    "# Get the predicted class label\n",
    "predicted_class_label = class_labels[predicted_class_index]\n",
    "\n",
    "# Print the predicted class and the corresponding probability\n",
    "print(\"Predicted class:\", predicted_class_label)\n",
    "print(\"Probability:\", predictions[0])\n",
    "\n",
    "# Display the image\n",
    "plt.imshow(imge)\n",
    "plt.axis('off')\n",
    "plt.show()\n"
   ]
  },
  {
   "cell_type": "code",
   "execution_count": null,
   "metadata": {},
   "outputs": [],
   "source": [
    "#Load the pre-trained model and make predictions on the image\n",
    "import numpy as np\n",
    "import matplotlib.pyplot as plt\n",
    "\n",
    "from tensorflow.keras.preprocessing import image\n",
    "from tensorflow.keras.models import load_model\n",
    "\n",
    "# Load the pre-trained model\n",
    "model = load_model('model.h5')\n",
    "\n",
    "# Define the target size and threshold\n",
    "target_size = (64, 64)\n",
    "threshold = 0.5\n",
    "\n",
    "# Load and preprocess the image\n",
    "img_path = './image/ahmad.png'\n",
    "imge = image.load_img(img_path, target_size=target_size)\n",
    "X = image.img_to_array(imge) / 255.0  # Normalize the image\n",
    "X = np.expand_dims(X, axis=0)\n",
    "\n",
    "# Make predictions on the image\n",
    "predictions = model.predict(X)\n",
    "\n",
    "# Class labels\n",
    "class_labels = [\"female\", \"male\"]\n",
    "\n",
    "# Get the predicted class index\n",
    "predicted_class_index = 1 if predictions[0] > threshold else 0\n",
    "\n",
    "# Get the predicted class label\n",
    "predicted_class_label = class_labels[predicted_class_index]\n",
    "\n",
    "# Print the predicted class and the corresponding probability\n",
    "print(\"Predicted class:\", predicted_class_label)\n",
    "print(\"Probability:\", predictions[0][predicted_class_index])\n",
    "\n",
    "# Display the image\n",
    "plt.imshow(imge)\n",
    "plt.axis('off')\n",
    "plt.show()\n"
   ]
  }
 ],
 "metadata": {
  "kernelspec": {
   "display_name": "base",
   "language": "python",
   "name": "python3"
  },
  "language_info": {
   "codemirror_mode": {
    "name": "ipython",
    "version": 3
   },
   "file_extension": ".py",
   "mimetype": "text/x-python",
   "name": "python",
   "nbconvert_exporter": "python",
   "pygments_lexer": "ipython3",
   "version": "3.9.13"
  },
  "orig_nbformat": 4
 },
 "nbformat": 4,
 "nbformat_minor": 2
}
